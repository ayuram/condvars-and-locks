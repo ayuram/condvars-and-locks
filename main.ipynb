{
 "cells": [
  {
   "cell_type": "markdown",
   "metadata": {},
   "source": [
    "# Bathroom Stall\n",
    "\n",
    "`1` shared resource is available to `N` people. Each person can occupy the resource for some units of time. When a person leaves the resource, the resource is available again."
   ]
  },
  {
   "cell_type": "markdown",
   "metadata": {},
   "source": [
    "![alt text](assets/bathroom.png)"
   ]
  },
  {
   "cell_type": "markdown",
   "metadata": {},
   "source": [
    "## Solution with Lock\n",
    "\n",
    "We want to make sure no one walks in on someone else."
   ]
  },
  {
   "cell_type": "code",
   "execution_count": 16,
   "metadata": {},
   "outputs": [
    {
     "name": "stdout",
     "output_type": "stream",
     "text": [
      "Person 0 is waiting for the bathroom stall.Person 1 is waiting for the bathroom stall.\n",
      "Person 1 enters the bathroom stall.\n",
      "\n",
      "Person 2 is waiting for the bathroom stall.\n",
      "Person 3 is waiting for the bathroom stall.\n",
      "Person 4 is waiting for the bathroom stall.\n",
      "Person 1 leaves the bathroom stall.\n",
      "Person 0 enters the bathroom stall.\n",
      "Person 0 leaves the bathroom stall.\n",
      "Person 2 enters the bathroom stall.\n",
      "Person 2 leaves the bathroom stall.\n",
      "Person 3 enters the bathroom stall.\n",
      "Person 3 leaves the bathroom stall.\n",
      "Person 4 enters the bathroom stall.\n",
      "Person 4 leaves the bathroom stall.\n",
      "All people have used the bathroom.\n"
     ]
    }
   ],
   "source": [
    "from threading import Lock, Thread\n",
    "import time\n",
    "import random\n",
    "\n",
    "class BathroomStall:\n",
    "    def __init__(self):\n",
    "        self.lock = Lock()\n",
    "\n",
    "    def use_stall(self, person_id):\n",
    "        print(f\"Person {person_id} is waiting for the bathroom stall.\")\n",
    "        self.lock.acquire()\n",
    "        # Do whatever we need to do with the resource\n",
    "        print(f\"Person {person_id} enters the bathroom stall.\")\n",
    "        time.sleep(random.uniform(0, 1))  # Simulating using the stall\n",
    "        # Release the lock once we're done\n",
    "        print(f\"Person {person_id} leaves the bathroom stall.\")\n",
    "        self.lock.release()\n",
    "\n",
    "num_people = 5\n",
    "bathroom = BathroomStall()\n",
    "threads = [Thread(target=bathroom.use_stall, args=(i,)) for i in range(num_people)]\n",
    "\n",
    "for thread in threads:\n",
    "    thread.start()\n",
    "\n",
    "for thread in threads:\n",
    "    thread.join()\n",
    "\n",
    "print(\"All people have used the bathroom.\")\n"
   ]
  },
  {
   "cell_type": "markdown",
   "metadata": {},
   "source": [
    "# ILLINI Cheer\n",
    "\n",
    "A cheer is to be orchestrated by `N` sections, one for each unique letter in the cheer."
   ]
  },
  {
   "cell_type": "markdown",
   "metadata": {},
   "source": [
    "![alt text](assets/cheer.png)"
   ]
  },
  {
   "cell_type": "markdown",
   "metadata": {},
   "source": [
    "## Solution with Condition Variables\n",
    "\n",
    "The conditions will be the state of the cheer"
   ]
  },
  {
   "cell_type": "code",
   "execution_count": 23,
   "metadata": {},
   "outputs": [
    {
     "name": "stdout",
     "output_type": "stream",
     "text": [
      "Cheer sections: ['L', 'N', 'I']\n",
      "I-L-L-I-N-I-\n",
      "The cheer is complete!\n"
     ]
    }
   ],
   "source": [
    "from threading import Thread, Condition\n",
    "import random\n",
    "\n",
    "class Cheerleader:\n",
    "    def __init__(self, cheer: str):\n",
    "        self.cheer = cheer\n",
    "        self.n = len(self.cheer)\n",
    "        self.current_index = 0\n",
    "        self.condition = Condition()\n",
    "    \n",
    "    def get_letter(self):\n",
    "        return self.cheer[self.current_index] if self.current_index < len(self.cheer) else None\n",
    "\n",
    "    def cheer_letter(self, letter):\n",
    "        last_index_of_section = self.n - list(reversed(self.cheer)).index(letter)\n",
    "        time.sleep(random.uniform(0, 3)) # Simulating the moving time of the cheerleader\n",
    "        while self.current_index < last_index_of_section:\n",
    "            # with/while is used to ensure that the condition is released when the block is exited\n",
    "            with self.condition:\n",
    "                while self.get_letter() != letter:\n",
    "                    # print(f\"Cheerleader is waiting for {letter}.\")\n",
    "                    self.condition.wait()\n",
    "                # Do whatever we need to do with the resource\n",
    "                print(letter, end=\"-\")\n",
    "                self.current_index += 1\n",
    "                # Release the resource\n",
    "                self.condition.notify_all()\n",
    "            # releasing the condition\n",
    "\n",
    "cheerleader = Cheerleader(cheer=\"ILLINI\")\n",
    "\n",
    "letters = list(set(cheerleader.cheer))\n",
    "print(f\"Cheer sections: {letters}\")\n",
    "\n",
    "threads = {section: Thread(target=cheerleader.cheer_letter, args=(section)) for section in letters}\n",
    "\n",
    "for thread in threads.values():\n",
    "    thread.start()\n",
    "\n",
    "for thread in threads.values():\n",
    "    thread.join()\n",
    "\n",
    "print(\"\\nThe cheer is complete!\")\n"
   ]
  }
 ],
 "metadata": {
  "kernelspec": {
   "display_name": "base",
   "language": "python",
   "name": "python3"
  },
  "language_info": {
   "codemirror_mode": {
    "name": "ipython",
    "version": 3
   },
   "file_extension": ".py",
   "mimetype": "text/x-python",
   "name": "python",
   "nbconvert_exporter": "python",
   "pygments_lexer": "ipython3",
   "version": "3.10.9"
  }
 },
 "nbformat": 4,
 "nbformat_minor": 2
}
